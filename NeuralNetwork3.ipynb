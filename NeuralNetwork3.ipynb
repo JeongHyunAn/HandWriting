{
 "cells": [
  {
   "cell_type": "code",
   "execution_count": 5,
   "metadata": {},
   "outputs": [
    {
     "name": "stdout",
     "output_type": "stream",
     "text": [
      "train acc, test acc | 0.11236666666666667, 0.0\n",
      "train acc, test acc | 0.79695, 0.0\n",
      "train acc, test acc | 0.8767166666666667, 0.0\n",
      "train acc, test acc | 0.8979833333333334, 0.0\n",
      "train acc, test acc | 0.907, 0.0\n",
      "train acc, test acc | 0.9142333333333333, 0.0\n",
      "train acc, test acc | 0.9185666666666666, 0.0\n",
      "train acc, test acc | 0.92325, 0.0\n",
      "train acc, test acc | 0.9268666666666666, 0.0\n",
      "train acc, test acc | 0.9290333333333334, 0.0\n",
      "train acc, test acc | 0.9324, 0.0\n",
      "train acc, test acc | 0.93595, 0.0\n",
      "train acc, test acc | 0.9386, 0.0\n",
      "train acc, test acc | 0.9404666666666667, 0.0\n",
      "train acc, test acc | 0.94225, 0.0\n",
      "train acc, test acc | 0.9437, 0.0\n",
      "train acc, test acc | 0.9457666666666666, 0.0\n"
     ]
    },
    {
     "data": {
      "image/png": "[encoded data removed]",
      "text/plain": [
       "<Figure size 432x288 with 1 Axes>"
      ]
     },
     "metadata": {
      "needs_background": "light"
     },
     "output_type": "display_data"
    }
   ],
   "source": [
    "import numpy as np\n",
    "import csv\n",
    "import sys\n",
    "import matplotlib.pyplot as plt\n",
    "from mnist import load_mnist\n",
    "from two_layer_net import TwoLayerNet\n",
    "\n",
    "# command line에서 파일 읽어오기\n",
    "train_image, train_label, test_image = sys.argv[1], sys.argv[2], sys.argv[3]\n",
    "\n",
    "# 데이터 읽기\n",
    "# (x_train, t_train), (x_test, t_test) = load_mnist(normalize=True, one_hot_label=True)\n",
    "(x_train, t_train), (x_test, t_test) = load_mnist(train_image, train_label, test_image, normalize=True, one_hot_label=True)\n",
    "\n",
    "network = TwoLayerNet(input_size=784, hidden_size=50, output_size=10)\n",
    "\n",
    "# 하이퍼파라미터\n",
    "iters_num = 10000  # 반복 횟수를 적절히 설정한다.\n",
    "train_size = x_train.shape[0]\n",
    "batch_size = 100   # 미니배치 크기\n",
    "learning_rate = 0.1\n",
    "\n",
    "train_loss_list = []\n",
    "train_acc_list = []\n",
    "test_acc_list = []\n",
    "\n",
    "# 1에폭당 반복 수\n",
    "iter_per_epoch = max(train_size / batch_size, 1)\n",
    "\n",
    "for i in range(iters_num):\n",
    "    # 미니배치 획득\n",
    "    batch_mask = np.random.choice(train_size, batch_size)\n",
    "    x_batch = x_train[batch_mask]\n",
    "    t_batch = t_train[batch_mask]\n",
    "\n",
    "    # 기울기 계산\n",
    "    grad = network.gradient(x_batch, t_batch)\n",
    "    \n",
    "    # 매개변수 갱신\n",
    "    for key in ('W1', 'b1', 'W2', 'b2'):\n",
    "        network.params[key] -= learning_rate * grad[key]\n",
    "    \n",
    "    # 학습 경과 기록\n",
    "    loss = network.loss(x_batch, t_batch)\n",
    "    train_loss_list.append(loss)\n",
    "    \n",
    "    # 1에폭당 정확도 계산\n",
    "    if i % iter_per_epoch == 0:\n",
    "        train_acc = network.accuracy(x_train, t_train)\n",
    "        test_acc = network.accuracy(x_test, t_test)\n",
    "        train_acc_list.append(train_acc)\n",
    "        test_acc_list.append(test_acc)\n",
    "        print(\"train acc, test acc | \" + str(train_acc) + \", \" + str(test_acc))\n",
    "\n",
    "f = open('test_predictions.csv', 'w', newline='', encoding='utf-8')\n",
    "wf = csv.writer(f)\n",
    "\n",
    "for i in range(len(x_test)):\n",
    "    y = TwoLayerNet.predict(network, x_test[i])\n",
    "    p = np.argmax(y)\n",
    "    wf.writerow([p])\n",
    "\n",
    "f.close()\n",
    "\n",
    "# 그래프 그리기\n",
    "markers = {'train': 'o', 'test': 's'}\n",
    "x = np.arange(len(train_acc_list))\n",
    "\n",
    "plt.plot(x, train_acc_list, label='train acc')\n",
    "plt.plot(x, test_acc_list, label='test acc', linestyle='--')\n",
    "plt.xlabel(\"epochs\")\n",
    "plt.ylabel(\"accuracy\")\n",
    "plt.ylim(0, 1.0)\n",
    "plt.legend(loc='lower right')\n",
    "plt.show()"
   ]
  }
 ],
 "metadata": {
  "kernelspec": {
   "display_name": "Python 3",
   "language": "python",
   "name": "python3"
  },
  "language_info": {
   "codemirror_mode": {
    "name": "ipython",
    "version": 3
   },
   "file_extension": ".py",
   "mimetype": "text/x-python",
   "name": "python",
   "nbconvert_exporter": "python",
   "pygments_lexer": "ipython3",
   "version": "3.8.5"
  }
 },
 "nbformat": 4,
 "nbformat_minor": 4
}
